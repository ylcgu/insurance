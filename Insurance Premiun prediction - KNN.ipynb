{
 "cells": [
  {
   "cell_type": "code",
   "execution_count": 1,
   "metadata": {
    "_cell_guid": "b1076dfc-b9ad-4769-8c92-a6c4dae69d19",
    "_uuid": "8f2839f25d086af736a60e9eeb907d3b93b6e0e5"
   },
   "outputs": [
    {
     "data": {
      "text/html": [
       "        <script type=\"text/javascript\">\n",
       "        window.PlotlyConfig = {MathJaxConfig: 'local'};\n",
       "        if (window.MathJax) {MathJax.Hub.Config({SVG: {font: \"STIX-Web\"}});}\n",
       "        if (typeof require !== 'undefined') {\n",
       "        require.undef(\"plotly\");\n",
       "        requirejs.config({\n",
       "            paths: {\n",
       "                'plotly': ['https://cdn.plot.ly/plotly-latest.min']\n",
       "            }\n",
       "        });\n",
       "        require(['plotly'], function(Plotly) {\n",
       "            window._Plotly = Plotly;\n",
       "        });\n",
       "        }\n",
       "        </script>\n",
       "        "
      ]
     },
     "metadata": {},
     "output_type": "display_data"
    }
   ],
   "source": [
    "# This Python 3 environment comes with many helpful analytics libraries installed\n",
    "# It is defined by the kaggle/python docker image: https://github.com/kaggle/docker-python\n",
    "# For example, here's several helpful packages to load in \n",
    "\n",
    "import pandas as pd\n",
    "from pathlib import Path\n",
    "# import glob\n",
    "from sklearn.model_selection import train_test_split\n",
    "from sklearn.linear_model import LinearRegression\n",
    "from sklearn import metrics\n",
    "import numpy as np\n",
    "from math import sqrt\n",
    "from sklearn.preprocessing import StandardScaler\n",
    "import matplotlib.pyplot as plt\n",
    "%matplotlib inline\n",
    "import seaborn as sns\n",
    "import plotly.graph_objs as go   \n",
    "from plotly.offline import download_plotlyjs, init_notebook_mode, plot, iplot\n",
    "init_notebook_mode(connected=True) #this is to diplay figures in notebook\n",
    "import plotly as py\n",
    "import plotly.graph_objs as go\n",
    "from plotly.graph_objs import*"
   ]
  },
  {
   "cell_type": "code",
   "execution_count": 2,
   "metadata": {},
   "outputs": [
    {
     "data": {
      "text/plain": [
       "<function posix.listdir(path=None)>"
      ]
     },
     "execution_count": 2,
     "metadata": {},
     "output_type": "execute_result"
    }
   ],
   "source": [
    "import os\n",
    "os.listdir"
   ]
  },
  {
   "cell_type": "code",
   "execution_count": 3,
   "metadata": {},
   "outputs": [
    {
     "data": {
      "text/html": [
       "<div>\n",
       "<style scoped>\n",
       "    .dataframe tbody tr th:only-of-type {\n",
       "        vertical-align: middle;\n",
       "    }\n",
       "\n",
       "    .dataframe tbody tr th {\n",
       "        vertical-align: top;\n",
       "    }\n",
       "\n",
       "    .dataframe thead th {\n",
       "        text-align: right;\n",
       "    }\n",
       "</style>\n",
       "<table border=\"1\" class=\"dataframe\">\n",
       "  <thead>\n",
       "    <tr style=\"text-align: right;\">\n",
       "      <th></th>\n",
       "      <th>age</th>\n",
       "      <th>sex</th>\n",
       "      <th>bmi</th>\n",
       "      <th>children</th>\n",
       "      <th>smoker</th>\n",
       "      <th>region</th>\n",
       "      <th>expenses</th>\n",
       "    </tr>\n",
       "  </thead>\n",
       "  <tbody>\n",
       "    <tr>\n",
       "      <th>0</th>\n",
       "      <td>19</td>\n",
       "      <td>female</td>\n",
       "      <td>27.9</td>\n",
       "      <td>0</td>\n",
       "      <td>yes</td>\n",
       "      <td>southwest</td>\n",
       "      <td>16884.92</td>\n",
       "    </tr>\n",
       "    <tr>\n",
       "      <th>1</th>\n",
       "      <td>18</td>\n",
       "      <td>male</td>\n",
       "      <td>33.8</td>\n",
       "      <td>1</td>\n",
       "      <td>no</td>\n",
       "      <td>southeast</td>\n",
       "      <td>1725.55</td>\n",
       "    </tr>\n",
       "    <tr>\n",
       "      <th>2</th>\n",
       "      <td>28</td>\n",
       "      <td>male</td>\n",
       "      <td>33.0</td>\n",
       "      <td>3</td>\n",
       "      <td>no</td>\n",
       "      <td>southeast</td>\n",
       "      <td>4449.46</td>\n",
       "    </tr>\n",
       "    <tr>\n",
       "      <th>3</th>\n",
       "      <td>33</td>\n",
       "      <td>male</td>\n",
       "      <td>22.7</td>\n",
       "      <td>0</td>\n",
       "      <td>no</td>\n",
       "      <td>northwest</td>\n",
       "      <td>21984.47</td>\n",
       "    </tr>\n",
       "    <tr>\n",
       "      <th>4</th>\n",
       "      <td>32</td>\n",
       "      <td>male</td>\n",
       "      <td>28.9</td>\n",
       "      <td>0</td>\n",
       "      <td>no</td>\n",
       "      <td>northwest</td>\n",
       "      <td>3866.86</td>\n",
       "    </tr>\n",
       "  </tbody>\n",
       "</table>\n",
       "</div>"
      ],
      "text/plain": [
       "   age     sex   bmi  children smoker     region  expenses\n",
       "0   19  female  27.9         0    yes  southwest  16884.92\n",
       "1   18    male  33.8         1     no  southeast   1725.55\n",
       "2   28    male  33.0         3     no  southeast   4449.46\n",
       "3   33    male  22.7         0     no  northwest  21984.47\n",
       "4   32    male  28.9         0     no  northwest   3866.86"
      ]
     },
     "execution_count": 3,
     "metadata": {},
     "output_type": "execute_result"
    }
   ],
   "source": [
    "df= pd.read_csv('insurance.csv')\n",
    "df.head(5)"
   ]
  },
  {
   "cell_type": "code",
   "execution_count": 4,
   "metadata": {},
   "outputs": [
    {
     "name": "stdout",
     "output_type": "stream",
     "text": [
      "<class 'pandas.core.frame.DataFrame'>\n",
      "RangeIndex: 1338 entries, 0 to 1337\n",
      "Data columns (total 7 columns):\n",
      "age         1338 non-null int64\n",
      "sex         1338 non-null object\n",
      "bmi         1338 non-null float64\n",
      "children    1338 non-null int64\n",
      "smoker      1338 non-null object\n",
      "region      1338 non-null object\n",
      "expenses    1338 non-null float64\n",
      "dtypes: float64(2), int64(2), object(3)\n",
      "memory usage: 73.2+ KB\n"
     ]
    }
   ],
   "source": [
    "df.info()"
   ]
  },
  {
   "cell_type": "code",
   "execution_count": 5,
   "metadata": {},
   "outputs": [
    {
     "data": {
      "text/plain": [
       "southeast    364\n",
       "southwest    325\n",
       "northwest    325\n",
       "northeast    324\n",
       "Name: region, dtype: int64"
      ]
     },
     "execution_count": 5,
     "metadata": {},
     "output_type": "execute_result"
    }
   ],
   "source": [
    "df['region'].value_counts()"
   ]
  },
  {
   "cell_type": "code",
   "execution_count": 6,
   "metadata": {},
   "outputs": [
    {
     "data": {
      "text/plain": [
       "1"
      ]
     },
     "execution_count": 6,
     "metadata": {},
     "output_type": "execute_result"
    }
   ],
   "source": [
    "df.duplicated().sum()"
   ]
  },
  {
   "cell_type": "code",
   "execution_count": 7,
   "metadata": {},
   "outputs": [],
   "source": [
    "df.drop_duplicates(inplace = True)"
   ]
  },
  {
   "cell_type": "code",
   "execution_count": 8,
   "metadata": {},
   "outputs": [
    {
     "data": {
      "text/plain": [
       "0"
      ]
     },
     "execution_count": 8,
     "metadata": {},
     "output_type": "execute_result"
    }
   ],
   "source": [
    "df.duplicated().sum()"
   ]
  },
  {
   "cell_type": "code",
   "execution_count": 9,
   "metadata": {},
   "outputs": [
    {
     "data": {
      "text/plain": [
       "male      675\n",
       "female    662\n",
       "Name: sex, dtype: int64"
      ]
     },
     "execution_count": 9,
     "metadata": {},
     "output_type": "execute_result"
    }
   ],
   "source": [
    "df[\"sex\"].value_counts()"
   ]
  },
  {
   "cell_type": "code",
   "execution_count": 10,
   "metadata": {},
   "outputs": [
    {
     "data": {
      "text/plain": [
       "no     1063\n",
       "yes     274\n",
       "Name: smoker, dtype: int64"
      ]
     },
     "execution_count": 10,
     "metadata": {},
     "output_type": "execute_result"
    }
   ],
   "source": [
    "df[\"smoker\"].value_counts()"
   ]
  },
  {
   "cell_type": "code",
   "execution_count": 11,
   "metadata": {},
   "outputs": [
    {
     "data": {
      "text/plain": [
       "southeast    364\n",
       "southwest    325\n",
       "northeast    324\n",
       "northwest    324\n",
       "Name: region, dtype: int64"
      ]
     },
     "execution_count": 11,
     "metadata": {},
     "output_type": "execute_result"
    }
   ],
   "source": [
    "df[\"region\"].value_counts()"
   ]
  },
  {
   "cell_type": "code",
   "execution_count": 12,
   "metadata": {},
   "outputs": [
    {
     "data": {
      "text/html": [
       "<div>\n",
       "<style scoped>\n",
       "    .dataframe tbody tr th:only-of-type {\n",
       "        vertical-align: middle;\n",
       "    }\n",
       "\n",
       "    .dataframe tbody tr th {\n",
       "        vertical-align: top;\n",
       "    }\n",
       "\n",
       "    .dataframe thead th {\n",
       "        text-align: right;\n",
       "    }\n",
       "</style>\n",
       "<table border=\"1\" class=\"dataframe\">\n",
       "  <thead>\n",
       "    <tr style=\"text-align: right;\">\n",
       "      <th></th>\n",
       "      <th>age</th>\n",
       "      <th>sex</th>\n",
       "      <th>bmi</th>\n",
       "      <th>children</th>\n",
       "      <th>smoker</th>\n",
       "      <th>region</th>\n",
       "      <th>expenses</th>\n",
       "    </tr>\n",
       "  </thead>\n",
       "  <tbody>\n",
       "    <tr>\n",
       "      <th>0</th>\n",
       "      <td>19</td>\n",
       "      <td>female</td>\n",
       "      <td>27.9</td>\n",
       "      <td>0</td>\n",
       "      <td>yes</td>\n",
       "      <td>southwest</td>\n",
       "      <td>16884.92</td>\n",
       "    </tr>\n",
       "    <tr>\n",
       "      <th>1</th>\n",
       "      <td>18</td>\n",
       "      <td>male</td>\n",
       "      <td>33.8</td>\n",
       "      <td>1</td>\n",
       "      <td>no</td>\n",
       "      <td>southeast</td>\n",
       "      <td>1725.55</td>\n",
       "    </tr>\n",
       "    <tr>\n",
       "      <th>2</th>\n",
       "      <td>28</td>\n",
       "      <td>male</td>\n",
       "      <td>33.0</td>\n",
       "      <td>3</td>\n",
       "      <td>no</td>\n",
       "      <td>southeast</td>\n",
       "      <td>4449.46</td>\n",
       "    </tr>\n",
       "    <tr>\n",
       "      <th>3</th>\n",
       "      <td>33</td>\n",
       "      <td>male</td>\n",
       "      <td>22.7</td>\n",
       "      <td>0</td>\n",
       "      <td>no</td>\n",
       "      <td>northwest</td>\n",
       "      <td>21984.47</td>\n",
       "    </tr>\n",
       "    <tr>\n",
       "      <th>4</th>\n",
       "      <td>32</td>\n",
       "      <td>male</td>\n",
       "      <td>28.9</td>\n",
       "      <td>0</td>\n",
       "      <td>no</td>\n",
       "      <td>northwest</td>\n",
       "      <td>3866.86</td>\n",
       "    </tr>\n",
       "  </tbody>\n",
       "</table>\n",
       "</div>"
      ],
      "text/plain": [
       "   age     sex   bmi  children smoker     region  expenses\n",
       "0   19  female  27.9         0    yes  southwest  16884.92\n",
       "1   18    male  33.8         1     no  southeast   1725.55\n",
       "2   28    male  33.0         3     no  southeast   4449.46\n",
       "3   33    male  22.7         0     no  northwest  21984.47\n",
       "4   32    male  28.9         0     no  northwest   3866.86"
      ]
     },
     "execution_count": 12,
     "metadata": {},
     "output_type": "execute_result"
    }
   ],
   "source": [
    "df.head(5)"
   ]
  },
  {
   "cell_type": "code",
   "execution_count": null,
   "metadata": {},
   "outputs": [],
   "source": []
  },
  {
   "cell_type": "code",
   "execution_count": 13,
   "metadata": {},
   "outputs": [],
   "source": [
    "#df['sex_num']=df['sex'].map({'female':0, 'male':1})\n",
    "#df['sex_num'].value_counts()"
   ]
  },
  {
   "cell_type": "code",
   "execution_count": null,
   "metadata": {},
   "outputs": [],
   "source": []
  },
  {
   "cell_type": "code",
   "execution_count": 14,
   "metadata": {},
   "outputs": [],
   "source": [
    "#df['smoker_num']=df['smoker'].map({'yes':0, 'no':1})"
   ]
  },
  {
   "cell_type": "code",
   "execution_count": null,
   "metadata": {},
   "outputs": [],
   "source": []
  },
  {
   "cell_type": "code",
   "execution_count": 15,
   "metadata": {},
   "outputs": [],
   "source": [
    "#df['region_num']=df['region'].map({'southwest':0,'southeast':1, 'northwest':2, 'northeast':3 })"
   ]
  },
  {
   "cell_type": "markdown",
   "metadata": {},
   "source": [
    "# Check missing data"
   ]
  },
  {
   "cell_type": "code",
   "execution_count": 16,
   "metadata": {},
   "outputs": [
    {
     "data": {
      "text/plain": [
       "age         0\n",
       "sex         0\n",
       "bmi         0\n",
       "children    0\n",
       "smoker      0\n",
       "region      0\n",
       "expenses    0\n",
       "dtype: int64"
      ]
     },
     "execution_count": 16,
     "metadata": {},
     "output_type": "execute_result"
    }
   ],
   "source": [
    "df.isnull().sum()"
   ]
  },
  {
   "cell_type": "code",
   "execution_count": null,
   "metadata": {},
   "outputs": [],
   "source": []
  },
  {
   "cell_type": "code",
   "execution_count": 17,
   "metadata": {},
   "outputs": [
    {
     "data": {
      "text/plain": [
       "age         1337\n",
       "sex         1337\n",
       "bmi         1337\n",
       "children    1337\n",
       "smoker      1337\n",
       "region      1337\n",
       "expenses    1337\n",
       "dtype: int64"
      ]
     },
     "execution_count": 17,
     "metadata": {},
     "output_type": "execute_result"
    }
   ],
   "source": [
    "df.isnull().count()"
   ]
  },
  {
   "cell_type": "code",
   "execution_count": 18,
   "metadata": {},
   "outputs": [
    {
     "data": {
      "text/html": [
       "<div>\n",
       "<style scoped>\n",
       "    .dataframe tbody tr th:only-of-type {\n",
       "        vertical-align: middle;\n",
       "    }\n",
       "\n",
       "    .dataframe tbody tr th {\n",
       "        vertical-align: top;\n",
       "    }\n",
       "\n",
       "    .dataframe thead th {\n",
       "        text-align: right;\n",
       "    }\n",
       "</style>\n",
       "<table border=\"1\" class=\"dataframe\">\n",
       "  <thead>\n",
       "    <tr style=\"text-align: right;\">\n",
       "      <th></th>\n",
       "      <th>age</th>\n",
       "      <th>sex</th>\n",
       "      <th>bmi</th>\n",
       "      <th>children</th>\n",
       "      <th>smoker</th>\n",
       "      <th>region</th>\n",
       "      <th>expenses</th>\n",
       "    </tr>\n",
       "  </thead>\n",
       "  <tbody>\n",
       "    <tr>\n",
       "      <th>0</th>\n",
       "      <td>19</td>\n",
       "      <td>female</td>\n",
       "      <td>27.9</td>\n",
       "      <td>0</td>\n",
       "      <td>yes</td>\n",
       "      <td>southwest</td>\n",
       "      <td>16884.92</td>\n",
       "    </tr>\n",
       "    <tr>\n",
       "      <th>1</th>\n",
       "      <td>18</td>\n",
       "      <td>male</td>\n",
       "      <td>33.8</td>\n",
       "      <td>1</td>\n",
       "      <td>no</td>\n",
       "      <td>southeast</td>\n",
       "      <td>1725.55</td>\n",
       "    </tr>\n",
       "    <tr>\n",
       "      <th>2</th>\n",
       "      <td>28</td>\n",
       "      <td>male</td>\n",
       "      <td>33.0</td>\n",
       "      <td>3</td>\n",
       "      <td>no</td>\n",
       "      <td>southeast</td>\n",
       "      <td>4449.46</td>\n",
       "    </tr>\n",
       "    <tr>\n",
       "      <th>3</th>\n",
       "      <td>33</td>\n",
       "      <td>male</td>\n",
       "      <td>22.7</td>\n",
       "      <td>0</td>\n",
       "      <td>no</td>\n",
       "      <td>northwest</td>\n",
       "      <td>21984.47</td>\n",
       "    </tr>\n",
       "    <tr>\n",
       "      <th>4</th>\n",
       "      <td>32</td>\n",
       "      <td>male</td>\n",
       "      <td>28.9</td>\n",
       "      <td>0</td>\n",
       "      <td>no</td>\n",
       "      <td>northwest</td>\n",
       "      <td>3866.86</td>\n",
       "    </tr>\n",
       "  </tbody>\n",
       "</table>\n",
       "</div>"
      ],
      "text/plain": [
       "   age     sex   bmi  children smoker     region  expenses\n",
       "0   19  female  27.9         0    yes  southwest  16884.92\n",
       "1   18    male  33.8         1     no  southeast   1725.55\n",
       "2   28    male  33.0         3     no  southeast   4449.46\n",
       "3   33    male  22.7         0     no  northwest  21984.47\n",
       "4   32    male  28.9         0     no  northwest   3866.86"
      ]
     },
     "execution_count": 18,
     "metadata": {},
     "output_type": "execute_result"
    }
   ],
   "source": [
    "df.head()"
   ]
  },
  {
   "cell_type": "code",
   "execution_count": 19,
   "metadata": {},
   "outputs": [
    {
     "data": {
      "text/plain": [
       "children    0.067389\n",
       "bmi         0.198637\n",
       "age         0.298308\n",
       "expenses    1.000000\n",
       "Name: expenses, dtype: float64"
      ]
     },
     "execution_count": 19,
     "metadata": {},
     "output_type": "execute_result"
    }
   ],
   "source": [
    "corrs = df.corr()\n",
    "corrs['expenses'].sort_values()"
   ]
  },
  {
   "cell_type": "code",
   "execution_count": null,
   "metadata": {},
   "outputs": [],
   "source": []
  },
  {
   "cell_type": "code",
   "execution_count": 20,
   "metadata": {},
   "outputs": [
    {
     "data": {
      "image/png": "[encoded data removed]",
      "text/plain": [
       "<Figure size 864x576 with 2 Axes>"
      ]
     },
     "metadata": {
      "needs_background": "light"
     },
     "output_type": "display_data"
    }
   ],
   "source": [
    "# Display all this as a heatmap\n",
    "plt.figure(figsize=(12,8))\n",
    "sns.heatmap(corrs);"
   ]
  },
  {
   "cell_type": "code",
   "execution_count": 21,
   "metadata": {},
   "outputs": [
    {
     "data": {
      "text/plain": [
       "smoker  sex   \n",
       "no      female     8762.297367\n",
       "        male       8099.700407\n",
       "yes     female    30678.996261\n",
       "        male      33042.006226\n",
       "Name: expenses, dtype: float64"
      ]
     },
     "execution_count": 21,
     "metadata": {},
     "output_type": "execute_result"
    }
   ],
   "source": [
    "grouped=df.groupby(['smoker','sex'])['expenses'].mean()\n",
    "grouped.head(5)"
   ]
  },
  {
   "cell_type": "code",
   "execution_count": null,
   "metadata": {},
   "outputs": [],
   "source": []
  },
  {
   "cell_type": "markdown",
   "metadata": {},
   "source": [
    "# Variable"
   ]
  },
  {
   "cell_type": "code",
   "execution_count": 22,
   "metadata": {},
   "outputs": [
    {
     "data": {
      "text/plain": [
       "1    675\n",
       "0    662\n",
       "Name: sex, dtype: int64"
      ]
     },
     "execution_count": 22,
     "metadata": {},
     "output_type": "execute_result"
    }
   ],
   "source": [
    "df['sex']=df['sex'].map({'female':0, 'male':1})\n",
    "df['sex'].value_counts()"
   ]
  },
  {
   "cell_type": "code",
   "execution_count": 23,
   "metadata": {},
   "outputs": [
    {
     "data": {
      "text/plain": [
       "1    1063\n",
       "0     274\n",
       "Name: smoker, dtype: int64"
      ]
     },
     "execution_count": 23,
     "metadata": {},
     "output_type": "execute_result"
    }
   ],
   "source": [
    "df['smoker']=df['smoker'].map({'yes':0, 'no':1})\n",
    "df['smoker'].value_counts()"
   ]
  },
  {
   "cell_type": "code",
   "execution_count": 56,
   "metadata": {},
   "outputs": [
    {
     "data": {
      "text/plain": [
       "count    1337.000000\n",
       "mean       30.665520\n",
       "std         6.100664\n",
       "min        16.000000\n",
       "25%        26.300000\n",
       "50%        30.400000\n",
       "75%        34.700000\n",
       "max        53.100000\n",
       "Name: bmi, dtype: float64"
      ]
     },
     "execution_count": 56,
     "metadata": {},
     "output_type": "execute_result"
    }
   ],
   "source": [
    "df['bmi'].describe()"
   ]
  },
  {
   "cell_type": "code",
   "execution_count": 24,
   "metadata": {},
   "outputs": [
    {
     "data": {
      "text/html": [
       "<div>\n",
       "<style scoped>\n",
       "    .dataframe tbody tr th:only-of-type {\n",
       "        vertical-align: middle;\n",
       "    }\n",
       "\n",
       "    .dataframe tbody tr th {\n",
       "        vertical-align: top;\n",
       "    }\n",
       "\n",
       "    .dataframe thead th {\n",
       "        text-align: right;\n",
       "    }\n",
       "</style>\n",
       "<table border=\"1\" class=\"dataframe\">\n",
       "  <thead>\n",
       "    <tr style=\"text-align: right;\">\n",
       "      <th></th>\n",
       "      <th>age</th>\n",
       "      <th>sex</th>\n",
       "      <th>bmi</th>\n",
       "      <th>children</th>\n",
       "      <th>smoker</th>\n",
       "      <th>region</th>\n",
       "      <th>expenses</th>\n",
       "    </tr>\n",
       "  </thead>\n",
       "  <tbody>\n",
       "    <tr>\n",
       "      <th>0</th>\n",
       "      <td>19</td>\n",
       "      <td>0</td>\n",
       "      <td>27.9</td>\n",
       "      <td>0</td>\n",
       "      <td>0</td>\n",
       "      <td>southwest</td>\n",
       "      <td>16884.92</td>\n",
       "    </tr>\n",
       "    <tr>\n",
       "      <th>1</th>\n",
       "      <td>18</td>\n",
       "      <td>1</td>\n",
       "      <td>33.8</td>\n",
       "      <td>1</td>\n",
       "      <td>1</td>\n",
       "      <td>southeast</td>\n",
       "      <td>1725.55</td>\n",
       "    </tr>\n",
       "    <tr>\n",
       "      <th>2</th>\n",
       "      <td>28</td>\n",
       "      <td>1</td>\n",
       "      <td>33.0</td>\n",
       "      <td>3</td>\n",
       "      <td>1</td>\n",
       "      <td>southeast</td>\n",
       "      <td>4449.46</td>\n",
       "    </tr>\n",
       "    <tr>\n",
       "      <th>3</th>\n",
       "      <td>33</td>\n",
       "      <td>1</td>\n",
       "      <td>22.7</td>\n",
       "      <td>0</td>\n",
       "      <td>1</td>\n",
       "      <td>northwest</td>\n",
       "      <td>21984.47</td>\n",
       "    </tr>\n",
       "    <tr>\n",
       "      <th>4</th>\n",
       "      <td>32</td>\n",
       "      <td>1</td>\n",
       "      <td>28.9</td>\n",
       "      <td>0</td>\n",
       "      <td>1</td>\n",
       "      <td>northwest</td>\n",
       "      <td>3866.86</td>\n",
       "    </tr>\n",
       "  </tbody>\n",
       "</table>\n",
       "</div>"
      ],
      "text/plain": [
       "   age  sex   bmi  children  smoker     region  expenses\n",
       "0   19    0  27.9         0       0  southwest  16884.92\n",
       "1   18    1  33.8         1       1  southeast   1725.55\n",
       "2   28    1  33.0         3       1  southeast   4449.46\n",
       "3   33    1  22.7         0       1  northwest  21984.47\n",
       "4   32    1  28.9         0       1  northwest   3866.86"
      ]
     },
     "execution_count": 24,
     "metadata": {},
     "output_type": "execute_result"
    }
   ],
   "source": [
    "df.head()"
   ]
  },
  {
   "cell_type": "code",
   "execution_count": 25,
   "metadata": {},
   "outputs": [],
   "source": [
    "feature_columns=df[['age','sex','bmi','children','smoker']]"
   ]
  },
  {
   "cell_type": "markdown",
   "metadata": {},
   "source": [
    "## Scale"
   ]
  },
  {
   "cell_type": "code",
   "execution_count": 26,
   "metadata": {},
   "outputs": [],
   "source": [
    "# standardize our variables\n",
    "from sklearn.preprocessing import StandardScaler\n",
    "# instantiate the SKLearn class\n",
    "std_scaler=StandardScaler()"
   ]
  },
  {
   "cell_type": "code",
   "execution_count": 27,
   "metadata": {},
   "outputs": [],
   "source": [
    "# \"fit\" the scaler to our data & then transform the data to the new parameters\n",
    "scaled=std_scaler.fit(feature_columns)"
   ]
  },
  {
   "cell_type": "code",
   "execution_count": 28,
   "metadata": {},
   "outputs": [],
   "source": [
    "scaled_columns = std_scaler.transform(feature_columns)"
   ]
  },
  {
   "cell_type": "code",
   "execution_count": null,
   "metadata": {},
   "outputs": [],
   "source": []
  },
  {
   "cell_type": "code",
   "execution_count": 29,
   "metadata": {},
   "outputs": [],
   "source": [
    "# pickle the fitted scaler\n",
    "import pickle\n",
    "filename = open('fitted_scaler.pkl', 'wb')\n",
    "pickle.dump(std_scaler, filename)\n",
    "filename.close()"
   ]
  },
  {
   "cell_type": "code",
   "execution_count": 30,
   "metadata": {},
   "outputs": [
    {
     "data": {
      "text/plain": [
       "age         1337\n",
       "sex         1337\n",
       "bmi         1337\n",
       "children    1337\n",
       "smoker      1337\n",
       "dtype: int64"
      ]
     },
     "execution_count": 30,
     "metadata": {},
     "output_type": "execute_result"
    }
   ],
   "source": [
    "feature_columns.isnull().count()"
   ]
  },
  {
   "cell_type": "code",
   "execution_count": 31,
   "metadata": {},
   "outputs": [
    {
     "data": {
      "text/html": [
       "<div>\n",
       "<style scoped>\n",
       "    .dataframe tbody tr th:only-of-type {\n",
       "        vertical-align: middle;\n",
       "    }\n",
       "\n",
       "    .dataframe tbody tr th {\n",
       "        vertical-align: top;\n",
       "    }\n",
       "\n",
       "    .dataframe thead th {\n",
       "        text-align: right;\n",
       "    }\n",
       "</style>\n",
       "<table border=\"1\" class=\"dataframe\">\n",
       "  <thead>\n",
       "    <tr style=\"text-align: right;\">\n",
       "      <th></th>\n",
       "      <th>age</th>\n",
       "      <th>sex</th>\n",
       "      <th>bmi</th>\n",
       "      <th>children</th>\n",
       "      <th>smoker</th>\n",
       "    </tr>\n",
       "  </thead>\n",
       "  <tbody>\n",
       "    <tr>\n",
       "      <th>0</th>\n",
       "      <td>-1.440418</td>\n",
       "      <td>-1.009771</td>\n",
       "      <td>-0.453484</td>\n",
       "      <td>-0.909234</td>\n",
       "      <td>-1.969660</td>\n",
       "    </tr>\n",
       "    <tr>\n",
       "      <th>1</th>\n",
       "      <td>-1.511647</td>\n",
       "      <td>0.990324</td>\n",
       "      <td>0.513986</td>\n",
       "      <td>-0.079442</td>\n",
       "      <td>0.507702</td>\n",
       "    </tr>\n",
       "    <tr>\n",
       "      <th>2</th>\n",
       "      <td>-0.799350</td>\n",
       "      <td>0.990324</td>\n",
       "      <td>0.382803</td>\n",
       "      <td>1.580143</td>\n",
       "      <td>0.507702</td>\n",
       "    </tr>\n",
       "    <tr>\n",
       "      <th>3</th>\n",
       "      <td>-0.443201</td>\n",
       "      <td>0.990324</td>\n",
       "      <td>-1.306169</td>\n",
       "      <td>-0.909234</td>\n",
       "      <td>0.507702</td>\n",
       "    </tr>\n",
       "    <tr>\n",
       "      <th>4</th>\n",
       "      <td>-0.514431</td>\n",
       "      <td>0.990324</td>\n",
       "      <td>-0.289506</td>\n",
       "      <td>-0.909234</td>\n",
       "      <td>0.507702</td>\n",
       "    </tr>\n",
       "  </tbody>\n",
       "</table>\n",
       "</div>"
      ],
      "text/plain": [
       "        age       sex       bmi  children    smoker\n",
       "0 -1.440418 -1.009771 -0.453484 -0.909234 -1.969660\n",
       "1 -1.511647  0.990324  0.513986 -0.079442  0.507702\n",
       "2 -0.799350  0.990324  0.382803  1.580143  0.507702\n",
       "3 -0.443201  0.990324 -1.306169 -0.909234  0.507702\n",
       "4 -0.514431  0.990324 -0.289506 -0.909234  0.507702"
      ]
     },
     "execution_count": 31,
     "metadata": {},
     "output_type": "execute_result"
    }
   ],
   "source": [
    "scaled_df = pd.DataFrame(scaled_columns, columns=feature_columns.columns)\n",
    "scaled_df.head()"
   ]
  },
  {
   "cell_type": "markdown",
   "metadata": {},
   "source": [
    "## Modeling"
   ]
  },
  {
   "cell_type": "code",
   "execution_count": 32,
   "metadata": {},
   "outputs": [
    {
     "data": {
      "text/plain": [
       "0    16884.92\n",
       "1     1725.55\n",
       "2     4449.46\n",
       "3    21984.47\n",
       "4     3866.86\n",
       "Name: expenses, dtype: float64"
      ]
     },
     "execution_count": 32,
     "metadata": {},
     "output_type": "execute_result"
    }
   ],
   "source": [
    "# Declare the target variable\n",
    "y= df['expenses'].copy()\n",
    "y[:5]"
   ]
  },
  {
   "cell_type": "code",
   "execution_count": 33,
   "metadata": {},
   "outputs": [
    {
     "data": {
      "text/html": [
       "<div>\n",
       "<style scoped>\n",
       "    .dataframe tbody tr th:only-of-type {\n",
       "        vertical-align: middle;\n",
       "    }\n",
       "\n",
       "    .dataframe tbody tr th {\n",
       "        vertical-align: top;\n",
       "    }\n",
       "\n",
       "    .dataframe thead th {\n",
       "        text-align: right;\n",
       "    }\n",
       "</style>\n",
       "<table border=\"1\" class=\"dataframe\">\n",
       "  <thead>\n",
       "    <tr style=\"text-align: right;\">\n",
       "      <th></th>\n",
       "      <th>age</th>\n",
       "      <th>sex</th>\n",
       "      <th>bmi</th>\n",
       "      <th>children</th>\n",
       "      <th>smoker</th>\n",
       "    </tr>\n",
       "  </thead>\n",
       "  <tbody>\n",
       "    <tr>\n",
       "      <th>0</th>\n",
       "      <td>-1.440418</td>\n",
       "      <td>-1.009771</td>\n",
       "      <td>-0.453484</td>\n",
       "      <td>-0.909234</td>\n",
       "      <td>-1.969660</td>\n",
       "    </tr>\n",
       "    <tr>\n",
       "      <th>1</th>\n",
       "      <td>-1.511647</td>\n",
       "      <td>0.990324</td>\n",
       "      <td>0.513986</td>\n",
       "      <td>-0.079442</td>\n",
       "      <td>0.507702</td>\n",
       "    </tr>\n",
       "    <tr>\n",
       "      <th>2</th>\n",
       "      <td>-0.799350</td>\n",
       "      <td>0.990324</td>\n",
       "      <td>0.382803</td>\n",
       "      <td>1.580143</td>\n",
       "      <td>0.507702</td>\n",
       "    </tr>\n",
       "    <tr>\n",
       "      <th>3</th>\n",
       "      <td>-0.443201</td>\n",
       "      <td>0.990324</td>\n",
       "      <td>-1.306169</td>\n",
       "      <td>-0.909234</td>\n",
       "      <td>0.507702</td>\n",
       "    </tr>\n",
       "    <tr>\n",
       "      <th>4</th>\n",
       "      <td>-0.514431</td>\n",
       "      <td>0.990324</td>\n",
       "      <td>-0.289506</td>\n",
       "      <td>-0.909234</td>\n",
       "      <td>0.507702</td>\n",
       "    </tr>\n",
       "  </tbody>\n",
       "</table>\n",
       "</div>"
      ],
      "text/plain": [
       "        age       sex       bmi  children    smoker\n",
       "0 -1.440418 -1.009771 -0.453484 -0.909234 -1.969660\n",
       "1 -1.511647  0.990324  0.513986 -0.079442  0.507702\n",
       "2 -0.799350  0.990324  0.382803  1.580143  0.507702\n",
       "3 -0.443201  0.990324 -1.306169 -0.909234  0.507702\n",
       "4 -0.514431  0.990324 -0.289506 -0.909234  0.507702"
      ]
     },
     "execution_count": 33,
     "metadata": {},
     "output_type": "execute_result"
    }
   ],
   "source": [
    "X=scaled_df\n",
    "X[0:5]"
   ]
  },
  {
   "cell_type": "code",
   "execution_count": 35,
   "metadata": {},
   "outputs": [],
   "source": [
    "from sklearn.model_selection import train_test_split\n",
    "X_train,X_test,y_train,y_test = train_test_split (X,y,test_size=0.3, random_state=42)"
   ]
  },
  {
   "cell_type": "code",
   "execution_count": null,
   "metadata": {},
   "outputs": [],
   "source": []
  },
  {
   "cell_type": "code",
   "execution_count": 36,
   "metadata": {},
   "outputs": [
    {
     "data": {
      "text/plain": [
       "(935, 5)"
      ]
     },
     "execution_count": 36,
     "metadata": {},
     "output_type": "execute_result"
    }
   ],
   "source": [
    "X_train.shape"
   ]
  },
  {
   "cell_type": "code",
   "execution_count": 37,
   "metadata": {},
   "outputs": [
    {
     "data": {
      "text/plain": [
       "(402, 5)"
      ]
     },
     "execution_count": 37,
     "metadata": {},
     "output_type": "execute_result"
    }
   ],
   "source": [
    "X_test.shape"
   ]
  },
  {
   "cell_type": "code",
   "execution_count": 38,
   "metadata": {},
   "outputs": [],
   "source": [
    "# instantiating the SKlearn class\n",
    "my_model = LinearRegression()"
   ]
  },
  {
   "cell_type": "code",
   "execution_count": 39,
   "metadata": {},
   "outputs": [
    {
     "data": {
      "text/plain": [
       "LinearRegression(copy_X=True, fit_intercept=True, n_jobs=None, normalize=False)"
      ]
     },
     "execution_count": 39,
     "metadata": {},
     "output_type": "execute_result"
    }
   ],
   "source": [
    "my_model.fit(X_train, y_train) "
   ]
  },
  {
   "cell_type": "code",
   "execution_count": 40,
   "metadata": {},
   "outputs": [
    {
     "data": {
      "text/plain": [
       "array([ 7652.99528418,  5772.34576184, 14194.04608399, 31283.67028332,\n",
       "        9149.81557945])"
      ]
     },
     "execution_count": 40,
     "metadata": {},
     "output_type": "execute_result"
    }
   ],
   "source": [
    "y_preds=my_model.predict(X_test)\n",
    "y_preds[:5]"
   ]
  },
  {
   "cell_type": "code",
   "execution_count": 41,
   "metadata": {},
   "outputs": [
    {
     "data": {
      "text/plain": [
       "[7653.0, 5772.35, 14194.05, 31283.67, 9149.82]"
      ]
     },
     "execution_count": 41,
     "metadata": {},
     "output_type": "execute_result"
    }
   ],
   "source": [
    "# Take a look at the first few predictions and compare to the true values\n",
    "[round(x,2) for x in y_preds[:5]]"
   ]
  },
  {
   "cell_type": "code",
   "execution_count": 42,
   "metadata": {},
   "outputs": [
    {
     "data": {
      "text/plain": [
       "[8688.86, 5708.87, 11436.74, 38746.36, 4463.21]"
      ]
     },
     "execution_count": 42,
     "metadata": {},
     "output_type": "execute_result"
    }
   ],
   "source": [
    "# Compare that to the actual runs of the first five players\n",
    "list(y_test[:5])"
   ]
  },
  {
   "cell_type": "code",
   "execution_count": 43,
   "metadata": {},
   "outputs": [
    {
     "data": {
      "text/plain": [
       "6261.565073210322"
      ]
     },
     "execution_count": 43,
     "metadata": {},
     "output_type": "execute_result"
    }
   ],
   "source": [
    "# root mean sq error\n",
    "rmse = sqrt(metrics.mean_squared_error(y_test, y_preds))\n",
    "rmse"
   ]
  },
  {
   "cell_type": "code",
   "execution_count": 44,
   "metadata": {},
   "outputs": [
    {
     "data": {
      "text/plain": [
       "0.77"
      ]
     },
     "execution_count": 44,
     "metadata": {},
     "output_type": "execute_result"
    }
   ],
   "source": [
    "r2 = metrics.r2_score(y_test, y_preds)\n",
    "round(r2, 2)"
   ]
  },
  {
   "cell_type": "code",
   "execution_count": 45,
   "metadata": {},
   "outputs": [
    {
     "data": {
      "text/plain": [
       "13035.065935828872"
      ]
     },
     "execution_count": 45,
     "metadata": {},
     "output_type": "execute_result"
    }
   ],
   "source": [
    "# is that more or less than if we just used the average as our model?\n",
    "avg_val = y_train.mean()\n",
    "avg_val"
   ]
  },
  {
   "cell_type": "code",
   "execution_count": 46,
   "metadata": {},
   "outputs": [
    {
     "data": {
      "text/plain": [
       "array([13035.06593583, 13035.06593583, 13035.06593583, 13035.06593583,\n",
       "       13035.06593583, 13035.06593583, 13035.06593583, 13035.06593583,\n",
       "       13035.06593583, 13035.06593583, 13035.06593583, 13035.06593583,\n",
       "       13035.06593583, 13035.06593583, 13035.06593583, 13035.06593583,\n",
       "       13035.06593583, 13035.06593583, 13035.06593583, 13035.06593583,\n",
       "       13035.06593583, 13035.06593583, 13035.06593583, 13035.06593583,\n",
       "       13035.06593583, 13035.06593583, 13035.06593583, 13035.06593583,\n",
       "       13035.06593583, 13035.06593583, 13035.06593583, 13035.06593583,\n",
       "       13035.06593583, 13035.06593583, 13035.06593583, 13035.06593583,\n",
       "       13035.06593583, 13035.06593583, 13035.06593583, 13035.06593583,\n",
       "       13035.06593583, 13035.06593583, 13035.06593583, 13035.06593583,\n",
       "       13035.06593583, 13035.06593583, 13035.06593583, 13035.06593583,\n",
       "       13035.06593583, 13035.06593583, 13035.06593583, 13035.06593583,\n",
       "       13035.06593583, 13035.06593583, 13035.06593583, 13035.06593583,\n",
       "       13035.06593583, 13035.06593583, 13035.06593583, 13035.06593583,\n",
       "       13035.06593583, 13035.06593583, 13035.06593583, 13035.06593583,\n",
       "       13035.06593583, 13035.06593583, 13035.06593583, 13035.06593583,\n",
       "       13035.06593583, 13035.06593583, 13035.06593583, 13035.06593583,\n",
       "       13035.06593583, 13035.06593583, 13035.06593583, 13035.06593583,\n",
       "       13035.06593583, 13035.06593583, 13035.06593583, 13035.06593583,\n",
       "       13035.06593583, 13035.06593583, 13035.06593583, 13035.06593583,\n",
       "       13035.06593583, 13035.06593583, 13035.06593583, 13035.06593583,\n",
       "       13035.06593583, 13035.06593583, 13035.06593583, 13035.06593583,\n",
       "       13035.06593583, 13035.06593583, 13035.06593583, 13035.06593583,\n",
       "       13035.06593583, 13035.06593583, 13035.06593583, 13035.06593583,\n",
       "       13035.06593583, 13035.06593583, 13035.06593583, 13035.06593583,\n",
       "       13035.06593583, 13035.06593583, 13035.06593583, 13035.06593583,\n",
       "       13035.06593583, 13035.06593583, 13035.06593583, 13035.06593583,\n",
       "       13035.06593583, 13035.06593583, 13035.06593583, 13035.06593583,\n",
       "       13035.06593583, 13035.06593583, 13035.06593583, 13035.06593583,\n",
       "       13035.06593583, 13035.06593583, 13035.06593583, 13035.06593583,\n",
       "       13035.06593583, 13035.06593583, 13035.06593583, 13035.06593583,\n",
       "       13035.06593583, 13035.06593583, 13035.06593583, 13035.06593583,\n",
       "       13035.06593583, 13035.06593583, 13035.06593583, 13035.06593583,\n",
       "       13035.06593583, 13035.06593583, 13035.06593583, 13035.06593583,\n",
       "       13035.06593583, 13035.06593583, 13035.06593583, 13035.06593583,\n",
       "       13035.06593583, 13035.06593583, 13035.06593583, 13035.06593583,\n",
       "       13035.06593583, 13035.06593583, 13035.06593583, 13035.06593583,\n",
       "       13035.06593583, 13035.06593583, 13035.06593583, 13035.06593583,\n",
       "       13035.06593583, 13035.06593583, 13035.06593583, 13035.06593583,\n",
       "       13035.06593583, 13035.06593583, 13035.06593583, 13035.06593583,\n",
       "       13035.06593583, 13035.06593583, 13035.06593583, 13035.06593583,\n",
       "       13035.06593583, 13035.06593583, 13035.06593583, 13035.06593583,\n",
       "       13035.06593583, 13035.06593583, 13035.06593583, 13035.06593583,\n",
       "       13035.06593583, 13035.06593583, 13035.06593583, 13035.06593583,\n",
       "       13035.06593583, 13035.06593583, 13035.06593583, 13035.06593583,\n",
       "       13035.06593583, 13035.06593583, 13035.06593583, 13035.06593583,\n",
       "       13035.06593583, 13035.06593583, 13035.06593583, 13035.06593583,\n",
       "       13035.06593583, 13035.06593583, 13035.06593583, 13035.06593583,\n",
       "       13035.06593583, 13035.06593583, 13035.06593583, 13035.06593583,\n",
       "       13035.06593583, 13035.06593583, 13035.06593583, 13035.06593583,\n",
       "       13035.06593583, 13035.06593583, 13035.06593583, 13035.06593583,\n",
       "       13035.06593583, 13035.06593583, 13035.06593583, 13035.06593583,\n",
       "       13035.06593583, 13035.06593583, 13035.06593583, 13035.06593583,\n",
       "       13035.06593583, 13035.06593583, 13035.06593583, 13035.06593583,\n",
       "       13035.06593583, 13035.06593583, 13035.06593583, 13035.06593583,\n",
       "       13035.06593583, 13035.06593583, 13035.06593583, 13035.06593583,\n",
       "       13035.06593583, 13035.06593583, 13035.06593583, 13035.06593583,\n",
       "       13035.06593583, 13035.06593583, 13035.06593583, 13035.06593583,\n",
       "       13035.06593583, 13035.06593583, 13035.06593583, 13035.06593583,\n",
       "       13035.06593583, 13035.06593583, 13035.06593583, 13035.06593583,\n",
       "       13035.06593583, 13035.06593583, 13035.06593583, 13035.06593583,\n",
       "       13035.06593583, 13035.06593583, 13035.06593583, 13035.06593583,\n",
       "       13035.06593583, 13035.06593583, 13035.06593583, 13035.06593583,\n",
       "       13035.06593583, 13035.06593583, 13035.06593583, 13035.06593583,\n",
       "       13035.06593583, 13035.06593583, 13035.06593583, 13035.06593583,\n",
       "       13035.06593583, 13035.06593583, 13035.06593583, 13035.06593583,\n",
       "       13035.06593583, 13035.06593583, 13035.06593583, 13035.06593583,\n",
       "       13035.06593583, 13035.06593583, 13035.06593583, 13035.06593583,\n",
       "       13035.06593583, 13035.06593583, 13035.06593583, 13035.06593583,\n",
       "       13035.06593583, 13035.06593583, 13035.06593583, 13035.06593583,\n",
       "       13035.06593583, 13035.06593583, 13035.06593583, 13035.06593583,\n",
       "       13035.06593583, 13035.06593583, 13035.06593583, 13035.06593583,\n",
       "       13035.06593583, 13035.06593583, 13035.06593583, 13035.06593583,\n",
       "       13035.06593583, 13035.06593583, 13035.06593583, 13035.06593583,\n",
       "       13035.06593583, 13035.06593583, 13035.06593583, 13035.06593583,\n",
       "       13035.06593583, 13035.06593583, 13035.06593583, 13035.06593583,\n",
       "       13035.06593583, 13035.06593583, 13035.06593583, 13035.06593583,\n",
       "       13035.06593583, 13035.06593583, 13035.06593583, 13035.06593583,\n",
       "       13035.06593583, 13035.06593583, 13035.06593583, 13035.06593583,\n",
       "       13035.06593583, 13035.06593583, 13035.06593583, 13035.06593583,\n",
       "       13035.06593583, 13035.06593583, 13035.06593583, 13035.06593583,\n",
       "       13035.06593583, 13035.06593583, 13035.06593583, 13035.06593583,\n",
       "       13035.06593583, 13035.06593583, 13035.06593583, 13035.06593583,\n",
       "       13035.06593583, 13035.06593583, 13035.06593583, 13035.06593583,\n",
       "       13035.06593583, 13035.06593583, 13035.06593583, 13035.06593583,\n",
       "       13035.06593583, 13035.06593583, 13035.06593583, 13035.06593583,\n",
       "       13035.06593583, 13035.06593583, 13035.06593583, 13035.06593583,\n",
       "       13035.06593583, 13035.06593583, 13035.06593583, 13035.06593583,\n",
       "       13035.06593583, 13035.06593583, 13035.06593583, 13035.06593583,\n",
       "       13035.06593583, 13035.06593583, 13035.06593583, 13035.06593583,\n",
       "       13035.06593583, 13035.06593583, 13035.06593583, 13035.06593583,\n",
       "       13035.06593583, 13035.06593583, 13035.06593583, 13035.06593583,\n",
       "       13035.06593583, 13035.06593583, 13035.06593583, 13035.06593583,\n",
       "       13035.06593583, 13035.06593583, 13035.06593583, 13035.06593583,\n",
       "       13035.06593583, 13035.06593583, 13035.06593583, 13035.06593583,\n",
       "       13035.06593583, 13035.06593583, 13035.06593583, 13035.06593583,\n",
       "       13035.06593583, 13035.06593583, 13035.06593583, 13035.06593583,\n",
       "       13035.06593583, 13035.06593583, 13035.06593583, 13035.06593583,\n",
       "       13035.06593583, 13035.06593583, 13035.06593583, 13035.06593583,\n",
       "       13035.06593583, 13035.06593583])"
      ]
     },
     "execution_count": 46,
     "metadata": {},
     "output_type": "execute_result"
    }
   ],
   "source": [
    "# what would the error be if I simply predicted the average value for all players?\n",
    "comparison = np.full((len(y_test), ), avg_val)\n",
    "comparison"
   ]
  },
  {
   "cell_type": "code",
   "execution_count": 47,
   "metadata": {},
   "outputs": [
    {
     "data": {
      "text/plain": [
       "array([ 7652.99528418,  5772.34576184, 14194.04608399, 31283.67028332,\n",
       "        9149.81557945, 13417.0488382 , 29543.40997124,  1481.71940603,\n",
       "       10864.23993064, 11183.71569452, 10335.10926415, 32809.84511536,\n",
       "       30228.70235225, 17521.71921408, 10155.05947782,  9644.34292265,\n",
       "        4146.46507542, 31741.86278136,  3272.77786559,  5442.64812395,\n",
       "        3706.48393052, 29482.31729492, 15137.29521771, 30334.74443095,\n",
       "       30637.74995765,  5204.20631414, 35507.00153769, 36526.58264999,\n",
       "       10874.43508787, 13624.68721185,  5890.57280994, 13015.9447739 ,\n",
       "         596.83557901, 12278.05568093, 39680.2323775 , 12446.96228364,\n",
       "        4714.55858507,  3739.34773512, 31022.7374648 ,  9268.82612303,\n",
       "        6346.01871711, 29357.71579526, 34818.90913224, 11762.34091875,\n",
       "        7255.17101275,  3469.01686389,  5491.89238821,  9075.43308721,\n",
       "        4028.73300206,  9257.55685102,  6785.22947427, 11464.67765193,\n",
       "       30492.65877192,  3712.27924205, 11114.22642546, 10019.23464418,\n",
       "       10318.74241353,  2203.44600381, 31171.87883114,  9229.57266056,\n",
       "       15817.37142724,  8402.80544403, 12443.49124307,   947.21415066,\n",
       "       17051.55971111, 10217.0275257 ,  9982.8271442 , 30660.53719788,\n",
       "       24562.91936227, 16074.64966829,  7181.55890826,  2290.86961576,\n",
       "        6598.60649315,  -596.40004952, 11209.42155207, -1065.36684483,\n",
       "       17245.0713398 ,  8839.38820318,  7893.09034882, 12347.69025964,\n",
       "        5250.95428101, 18767.26093526, 14983.82666049, 11210.07334693,\n",
       "       35772.70308827, 13496.80591931,  3792.03632316,  2511.17272724,\n",
       "        5971.82472849,  4250.88061607, 15344.90687458, 27761.32724446,\n",
       "        5551.59361365,  3274.62236811,  2167.03850383, 35165.23752327,\n",
       "       14626.72397218,  9143.29581823,  4374.711728  ,  8169.36184122,\n",
       "       14198.56452256, 15275.34495069, 32267.07496786, 14673.97842427,\n",
       "       32288.9141817 ,  -149.47682349, 30289.07057887, 26554.12169109,\n",
       "       13766.65702211,  6086.29011672,  8369.65102013, 11491.16700496,\n",
       "        7867.60245575,  9612.98706323,  6163.51857143,  5539.26543316,\n",
       "        1691.12962738,  3206.7596371 ,  7169.46020272,  9364.60038968,\n",
       "       36104.31788351,  7594.42562204, 11813.21172106,  9402.50272709,\n",
       "        8859.15343955,  9731.69387977,  4667.78390142, 12563.27217439,\n",
       "       29749.54039972, 38910.96070833, 35706.53955013, 11688.75553104,\n",
       "        2591.00246318, 11336.53245687, 10428.93404445,  4812.17735424,\n",
       "       34516.4979519 , 29144.90718816, 25027.86269375,  5031.34890243,\n",
       "        6792.02624575,  5149.9371261 , 36523.28363586, 10386.60514454,\n",
       "        5654.60058074,  8446.15502516, 10413.68724665,  8575.01106088,\n",
       "       35049.92909248, 13951.60003161,  9877.71387063,  6267.64349278,\n",
       "        7153.29770753, 16930.54784488,  7219.38859085, 26345.93089418,\n",
       "       36502.74801176, 16073.67492511, 10187.48945203, 10949.86497811,\n",
       "       12206.16948609,  3639.52328786, 12682.00570771, 13436.8867294 ,\n",
       "       35354.53444044, 32571.40330555, 13132.8338047 , 25149.92195799,\n",
       "        1988.93820385,  1438.92224816,  4698.65999241,  5146.68405001,\n",
       "        4633.57056905, 10110.33365214,  9854.82725879, 25886.94129161,\n",
       "        2416.32726573, 10877.90612844,  6765.71453138, 11589.98999226,\n",
       "       14818.27250548,  4811.67086903, 11220.19584933,  9983.10415446,\n",
       "       32616.4061415 , 10770.06548526,  7248.097231  ,  5867.26387818,\n",
       "         158.55362699, 31351.60566916,  7575.03676755, 32390.90607979,\n",
       "       12141.70514082,  6200.92753138,  1098.33172014,  2202.51719868,\n",
       "       31999.72016245,  5059.18778324, 13517.22295055, 16979.57414466,\n",
       "       25880.98756269, 25763.25548934,  6777.78090791, 12464.72460009,\n",
       "       28292.13038704,  7993.13276055, 10102.48948265, 10362.74378952,\n",
       "        2927.01710412, 34308.29194867, 31460.34840069,  9483.95900108,\n",
       "        6045.71384325,  7462.95469606, 11149.3570525 ,  4864.2408642 ,\n",
       "        4806.57329041, 11724.23422589,  9129.67555848,  2353.63476816,\n",
       "        3589.44959008, 37585.6734165 , 37110.91130966, 13473.91930747,\n",
       "       11040.54166614, 37882.8301981 , 33685.15886323,  6866.03395338,\n",
       "       26130.34897943,  3881.01381832, 16054.23263705, 29327.17626162,\n",
       "        5532.32335203,  9524.05550611,  8357.00550356,  9497.07277562,\n",
       "        9203.63732806,  4424.88479739,  5441.02158591,  4778.51644513,\n",
       "        6273.53817592,  4538.42138049,  5354.29570688,  8966.96736595,\n",
       "         917.53076733,  8301.06383943,  3824.99949936, 10980.12750148,\n",
       "        2008.42642995, 10106.51294648,  3605.46677561, 11425.00346682,\n",
       "       12441.83798824, 13991.43263413, 36623.00871151, 22395.82241156,\n",
       "        9669.27839246,  7287.27803865,  8997.22988932, 11975.14952585,\n",
       "       28879.9033705 , 38006.66131003, 15050.49668385, 17093.25603741,\n",
       "       15610.78045159,  5770.79187862, 38406.06618146,  7800.71446791,\n",
       "        1708.89194383,  2636.63037722, 14263.6806627 , 17154.32199694,\n",
       "        9579.18084447, 10473.91016362, 11775.03237337, 12122.21691471,\n",
       "        4886.88279478,  9538.57785422,   801.49788684, 16805.01754008,\n",
       "        4930.88417078,  7480.74372929, 11824.48099307,  2747.91534419,\n",
       "       13545.35245066, 11824.33568342,  4979.40398534,  8041.50726547,\n",
       "       10762.49832604, 11432.49797121, 38385.60321218, 14475.91012976,\n",
       "        2549.42472976, -1498.92760011, 31446.72814094, 11115.22788542,\n",
       "        2674.25730165,  9228.92086569, 10514.908757  , 13368.67433329,\n",
       "         758.91869345,  3422.34155185, 39406.91023413, 29791.11813314,\n",
       "        2953.30210171,  2125.24280592, 11069.25030629,  4570.80541665,\n",
       "       15507.99144898,  4149.86346116,  5015.25906207, 11811.78953845,\n",
       "       30173.80808612, 13194.90122419, 24685.90743164,  9848.51025573,\n",
       "        2836.96549417,  2971.99322329, 30857.32861944, 10276.32163754,\n",
       "       39068.57132224,  5247.55589527, 10063.6583401 ,  5760.49734979,\n",
       "       13032.31162453, 31098.19407182, 11135.76350953, 11553.58249227,\n",
       "        6356.11450273, 13819.27295533,  6561.50126025,  8285.77110359,\n",
       "        7567.92265997,  4182.79992058, 13651.39452936,  3190.66979674,\n",
       "       16291.48173921, 10048.2202946 , 12441.14025533,  5233.09259295,\n",
       "        5210.9304308 ,  4521.2114873 , 11169.56972829,  7813.26061288,\n",
       "        2369.62523691, 12056.05337657, 32723.14595311,  8614.96225626,\n",
       "        6330.48130001,  6244.85625255,  3757.20942317, 31759.92882486,\n",
       "       14919.389032  , 25584.1537294 , 36003.37338342,  5854.09265513,\n",
       "        8709.73506294,  8386.7882585 , 31982.00378405,  3427.99155372,\n",
       "       32594.24397935, 27919.98525638, 34953.00805622,  7306.11446988,\n",
       "       25565.46260782,  9651.23906574, 13156.84046937, 12187.33305485,\n",
       "        8757.13482468,  9796.08557021, 11684.23709247,  5703.97654561,\n",
       "        -408.10459232, 11487.76861922,  2698.84310636,  3150.71860135,\n",
       "       18327.25307359,  5465.43536419, 11249.18149975,  3396.75428717,\n",
       "       14546.12384851, 11172.82280438,  2699.46818445, 38468.13360095,\n",
       "        5094.81178774,  8078.06007511, 15675.94252977, 15470.46389616,\n",
       "        9757.97887735, 10751.30170885,  8876.94247278,  -496.38435457,\n",
       "       10100.83622782,  4349.35553555, 10863.51548095, 29544.10770415,\n",
       "        -437.71532082,  6797.19647919, 14195.86386973, 12158.27474961,\n",
       "       13504.74946041,  8495.22726298])"
      ]
     },
     "execution_count": 47,
     "metadata": {},
     "output_type": "execute_result"
    }
   ],
   "source": [
    "# compare that to our predictions\n",
    "y_preds"
   ]
  },
  {
   "cell_type": "code",
   "execution_count": 48,
   "metadata": {},
   "outputs": [
    {
     "data": {
      "image/png": "[encoded data removed]",
      "text/plain": [
       "<Figure size 432x432 with 1 Axes>"
      ]
     },
     "metadata": {
      "needs_background": "light"
     },
     "output_type": "display_data"
    }
   ],
   "source": [
    "# Third metric: scatterplot\n",
    "plt.figure(figsize=(6,6))\n",
    "sns.regplot(x = y_preds, y = y_test);"
   ]
  },
  {
   "cell_type": "code",
   "execution_count": 49,
   "metadata": {},
   "outputs": [],
   "source": [
    "# pickle your model!\n",
    "import pickle\n",
    "filename = open('final_model.pkl', 'wb')\n",
    "pickle.dump(my_model, filename)\n",
    "filename.close()"
   ]
  },
  {
   "cell_type": "markdown",
   "metadata": {},
   "source": [
    "# Predict on new data"
   ]
  },
  {
   "cell_type": "code",
   "execution_count": 50,
   "metadata": {},
   "outputs": [
    {
     "data": {
      "text/plain": [
       "<PandasArray>\n",
       "[ -1.5116474702606657,   0.9903235535625419,   0.5139855484706017,\n",
       " -0.07944161966998751,    0.507701736870995]\n",
       "Length: 5, dtype: float64"
      ]
     },
     "execution_count": 50,
     "metadata": {},
     "output_type": "execute_result"
    }
   ],
   "source": [
    "X.loc[1].array"
   ]
  },
  {
   "cell_type": "code",
   "execution_count": 51,
   "metadata": {},
   "outputs": [],
   "source": [
    "new_data=[[-1.6,1.1,0.49,-0.08,0.52]]"
   ]
  },
  {
   "cell_type": "code",
   "execution_count": 52,
   "metadata": {},
   "outputs": [
    {
     "data": {
      "text/plain": [
       "array([3413.89415922])"
      ]
     },
     "execution_count": 52,
     "metadata": {},
     "output_type": "execute_result"
    }
   ],
   "source": [
    "my_model.predict(new_data)"
   ]
  },
  {
   "cell_type": "code",
   "execution_count": null,
   "metadata": {},
   "outputs": [],
   "source": []
  },
  {
   "cell_type": "code",
   "execution_count": null,
   "metadata": {},
   "outputs": [],
   "source": []
  },
  {
   "cell_type": "code",
   "execution_count": null,
   "metadata": {},
   "outputs": [],
   "source": []
  },
  {
   "cell_type": "code",
   "execution_count": null,
   "metadata": {},
   "outputs": [],
   "source": []
  }
 ],
 "metadata": {
  "kernelspec": {
   "display_name": "Python 3",
   "language": "python",
   "name": "python3"
  },
  "language_info": {
   "codemirror_mode": {
    "name": "ipython",
    "version": 3
   },
   "file_extension": ".py",
   "mimetype": "text/x-python",
   "name": "python",
   "nbconvert_exporter": "python",
   "pygments_lexer": "ipython3",
   "version": "3.7.3"
  }
 },
 "nbformat": 4,
 "nbformat_minor": 1
}
